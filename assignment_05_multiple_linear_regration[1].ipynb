{
 "cells": [
  {
   "cell_type": "markdown",
   "id": "ffcbe6be",
   "metadata": {},
   "source": [
    "* Prepare a prediction model for profit of 50_startups data.\n",
    "Do transformations for getting better predictions of profit and\n",
    "make a table containing R^2 value for each prepared model.\n",
    "\n",
    "* R&D Spend -- Research and devolop spend in the past few years\n",
    "* Administration -- spend on administration in the past few years\n",
    "* Marketing Spend -- spend on Marketing in the past few years\n",
    "* State -- states from which data is collected\n",
    "* Profit  -- profit of each state in the past few years\n"
   ]
  },
  {
   "cell_type": "code",
   "execution_count": null,
   "id": "0474c3dd",
   "metadata": {},
   "outputs": [],
   "source": [
    "import pandas as pd \n",
    "import numpy as np \n",
    "import seaborn as sns\n",
    "from statsmodels.graphics.regressionplots import influence_plot\n",
    "import statsmodels.formula.api as smf\n",
    "import numpy as np\n",
    "import matplotlib.pyplot as plt\n"
   ]
  },
  {
   "cell_type": "code",
   "execution_count": null,
   "id": "5c9f14d2",
   "metadata": {},
   "outputs": [],
   "source": [
    "startup = pd.read_csv(\"50_Startups.csv\")\n",
    "startup.head"
   ]
  },
  {
   "cell_type": "markdown",
   "id": "5adbb400",
   "metadata": {},
   "source": [
    "# EDA"
   ]
  },
  {
   "cell_type": "code",
   "execution_count": null,
   "id": "1e623ff1",
   "metadata": {
    "scrolled": true
   },
   "outputs": [],
   "source": [
    "startup.info()"
   ]
  },
  {
   "cell_type": "code",
   "execution_count": null,
   "id": "e3de43da",
   "metadata": {},
   "outputs": [],
   "source": [
    "startup['State']=startup['State'].astype('category')\n",
    "\n",
    "startup.info()"
   ]
  },
  {
   "cell_type": "markdown",
   "id": "1e9c6f8b",
   "metadata": {},
   "source": [
    "* cheack the duplicate row"
   ]
  },
  {
   "cell_type": "code",
   "execution_count": null,
   "id": "e5eb59c3",
   "metadata": {},
   "outputs": [],
   "source": [
    "startup[startup.duplicated()].shape  ### here no duplicate row"
   ]
  },
  {
   "cell_type": "code",
   "execution_count": null,
   "id": "332a171f",
   "metadata": {},
   "outputs": [],
   "source": [
    "startup[startup.duplicated()]"
   ]
  },
  {
   "cell_type": "markdown",
   "id": "24fa1ada",
   "metadata": {},
   "source": [
    "### Rename the column name\n"
   ]
  },
  {
   "cell_type": "code",
   "execution_count": null,
   "id": "1489ed2d",
   "metadata": {},
   "outputs": [],
   "source": [
    "startup1 = startup.rename({'R&D Spend':'rd',\"Marketing Spend\":'ms',\"Administration\":'ad','Profit':'pr'}, axis = 1)"
   ]
  },
  {
   "cell_type": "code",
   "execution_count": null,
   "id": "0118d07f",
   "metadata": {},
   "outputs": [],
   "source": [
    "startup1"
   ]
  },
  {
   "cell_type": "markdown",
   "id": "f5b2ff5a",
   "metadata": {},
   "source": [
    "# # Corelation Analysis"
   ]
  },
  {
   "cell_type": "code",
   "execution_count": null,
   "id": "6228a162",
   "metadata": {},
   "outputs": [],
   "source": [
    "startup1.corr()"
   ]
  },
  {
   "cell_type": "markdown",
   "id": "c35fe056",
   "metadata": {},
   "source": [
    "### scatter plot between variables along with histogram "
   ]
  },
  {
   "cell_type": "code",
   "execution_count": null,
   "id": "c5b27709",
   "metadata": {},
   "outputs": [],
   "source": [
    "sns.pairplot(startup1)"
   ]
  },
  {
   "cell_type": "markdown",
   "id": "2c6d271a",
   "metadata": {},
   "source": [
    "### preparing a model"
   ]
  },
  {
   "cell_type": "code",
   "execution_count": null,
   "id": "727bcbea",
   "metadata": {},
   "outputs": [],
   "source": [
    "import statsmodels.formula.api as smf"
   ]
  },
  {
   "cell_type": "code",
   "execution_count": null,
   "id": "be5de725",
   "metadata": {},
   "outputs": [],
   "source": [
    "model1 = smf.ols('pr~rd+ad+ms',data=startup1).fit()"
   ]
  },
  {
   "cell_type": "markdown",
   "id": "656e1cab",
   "metadata": {},
   "source": [
    "### Model testing"
   ]
  },
  {
   "cell_type": "code",
   "execution_count": null,
   "id": "7c15c71e",
   "metadata": {},
   "outputs": [],
   "source": [
    "model1.summary()"
   ]
  },
  {
   "cell_type": "markdown",
   "id": "fd0c8afc",
   "metadata": {},
   "source": [
    "###  build simple linear regration and multiple linear regration model for insufisent varibles 'ad' and 'ms'"
   ]
  },
  {
   "cell_type": "markdown",
   "id": "f72e3e8f",
   "metadata": {},
   "source": [
    "###  simple linear regration model"
   ]
  },
  {
   "cell_type": "code",
   "execution_count": null,
   "id": "0cce57b2",
   "metadata": {},
   "outputs": [],
   "source": [
    "sta = smf.ols('pr~ad',data = startup1).fit()\n",
    "sta.summary()"
   ]
  },
  {
   "cell_type": "code",
   "execution_count": null,
   "id": "78f3254e",
   "metadata": {},
   "outputs": [],
   "source": [
    "sta = smf.ols('pr~ms',data= startup1).fit()\n",
    "sta.summary()"
   ]
  },
  {
   "cell_type": "code",
   "execution_count": null,
   "id": "d80d780a",
   "metadata": {},
   "outputs": [],
   "source": [
    "sta = smf.ols('pr~ad+ms',data = startup1).fit()\n",
    "sta.summary()"
   ]
  },
  {
   "cell_type": "markdown",
   "id": "38290fd1",
   "metadata": {},
   "source": [
    "## Model Validation Technique\n",
    "#### Two Techniques 1) Collinearity 2) Residual analyasis\n",
    "##### 1) Colliniarity \n",
    "the collinearity cheche for three ways \n",
    "1) scatter plot matrix \n",
    "2) correlation matrix\n",
    "3) Variance Inflation Factor (VIF)"
   ]
  },
  {
   "cell_type": "markdown",
   "id": "8dc792e1",
   "metadata": {},
   "source": [
    "* using VIF cheack the colliniarity"
   ]
  },
  {
   "cell_type": "code",
   "execution_count": null,
   "id": "b7aa912b",
   "metadata": {},
   "outputs": [],
   "source": [
    "rsq_rd =smf.ols('rd~ad+ms',data = startup1).fit().rsquared\n",
    "vif_rd = 1/(1-rsq_rd)"
   ]
  },
  {
   "cell_type": "code",
   "execution_count": null,
   "id": "d0a73788",
   "metadata": {},
   "outputs": [],
   "source": [
    "rsq_ad = smf.ols('ad~rd+ms',data = startup1).fit().rsquared\n",
    "vif_ad = 1/(1-rsq_rd)"
   ]
  },
  {
   "cell_type": "code",
   "execution_count": null,
   "id": "74ee40ed",
   "metadata": {},
   "outputs": [],
   "source": [
    "rsq_ms = smf.ols('ms~ad+rd',data = startup1).fit().rsquared\n",
    "vif_ms = 1/(1-rsq_ms)"
   ]
  },
  {
   "cell_type": "markdown",
   "id": "30b3606f",
   "metadata": {},
   "source": [
    "###### Sorting VIF value in data frame"
   ]
  },
  {
   "cell_type": "code",
   "execution_count": null,
   "id": "9f770a44",
   "metadata": {
    "scrolled": true
   },
   "outputs": [],
   "source": [
    "df = {'variables':['rd','ad','ms'],'vif':[vif_rd,vif_ad,vif_ms]}\n",
    "dataframe = pd.DataFrame(df)\n",
    "dataframe"
   ]
  },
  {
   "cell_type": "markdown",
   "id": "f8d44728",
   "metadata": {},
   "source": [
    "* here all VIF values less than 20 or 10 there for the no colliniarity on this model so all variables in regration equation"
   ]
  },
  {
   "cell_type": "code",
   "execution_count": null,
   "id": "8f354e56",
   "metadata": {},
   "outputs": [],
   "source": [
    "final = smf.ols('pr~rd+ad',data = startup1).fit()\n",
    "(final.rsquared, final.aic)"
   ]
  },
  {
   "cell_type": "code",
   "execution_count": null,
   "id": "505e9a0c",
   "metadata": {},
   "outputs": [],
   "source": [
    "final = smf.ols('pr~rd+ms',data = startup1).fit()\n",
    "(final.rsquared,final.aic)"
   ]
  },
  {
   "cell_type": "markdown",
   "id": "6d8f714a",
   "metadata": {},
   "source": [
    "# Residual Analysis\n",
    "### Test for Normality of Residuals (Q-Q Plot)"
   ]
  },
  {
   "cell_type": "code",
   "execution_count": null,
   "id": "048d39bb",
   "metadata": {},
   "outputs": [],
   "source": [
    "res = model1.resid\n",
    "res\n",
    "res.mean()"
   ]
  },
  {
   "cell_type": "code",
   "execution_count": null,
   "id": "045e2743",
   "metadata": {},
   "outputs": [],
   "source": [
    "import statsmodels.api as sm\n",
    "qqplot=sm.qqplot(model1.resid,line='q') \n",
    "plt.title(\"Normal Q-Q plot of residuals\")\n",
    "plt.show()"
   ]
  },
  {
   "cell_type": "code",
   "execution_count": null,
   "id": "da96c71e",
   "metadata": {},
   "outputs": [],
   "source": [
    "list(np.where(model1.resid>10))"
   ]
  },
  {
   "cell_type": "markdown",
   "id": "56dc81ea",
   "metadata": {},
   "source": [
    "### Residual Plot for Homoscedasticity"
   ]
  },
  {
   "cell_type": "code",
   "execution_count": null,
   "id": "b7011bfc",
   "metadata": {},
   "outputs": [],
   "source": [
    "def get_standardize_value(vals):\n",
    "    return(vals - vals.mean())/vals.std()"
   ]
  },
  {
   "cell_type": "code",
   "execution_count": null,
   "id": "8881183b",
   "metadata": {},
   "outputs": [],
   "source": [
    "plt.scatter(get_standardize_value(model1.fittedvalues),get_standardize_value(model1.resid))\n",
    "plt.title(\"resiual plot\")\n",
    "plt.xlabel(\"standardized fitted values\")\n",
    "plt.ylabel(\"Standardized residules values\")\n",
    "plt.show()"
   ]
  },
  {
   "cell_type": "code",
   "execution_count": null,
   "id": "30c5681f",
   "metadata": {},
   "outputs": [],
   "source": [
    "startup1.head()"
   ]
  },
  {
   "cell_type": "markdown",
   "id": "b6cd8987",
   "metadata": {},
   "source": [
    "### Residual Vs Regressors"
   ]
  },
  {
   "cell_type": "code",
   "execution_count": null,
   "id": "58fe2141",
   "metadata": {},
   "outputs": [],
   "source": [
    "fig = plt.figure(figsize=(15,8))\n",
    "fig =sm.graphics.plot_regress_exog(model1,'rd',fig = fig)\n",
    "plt.show()"
   ]
  },
  {
   "cell_type": "code",
   "execution_count": null,
   "id": "f277bf41",
   "metadata": {},
   "outputs": [],
   "source": [
    "fig = plt.figure(figsize=(15,8))\n",
    "fig = sm.graphics.plot_regress_exog(model1,'ad',fig = fig)\n",
    "plt.show()"
   ]
  },
  {
   "cell_type": "code",
   "execution_count": null,
   "id": "0acb54e4",
   "metadata": {},
   "outputs": [],
   "source": [
    "fig = plt.figure(figsize = (15,8))\n",
    "fig = sm.graphics.plot_regress_exog(model1,'ms',fig=fig)\n",
    "plt.show()"
   ]
  },
  {
   "cell_type": "markdown",
   "id": "f25d56e0",
   "metadata": {},
   "source": [
    "#  model detection dignostic\n",
    "\n",
    "#### Detecting Influencers/Outliers\n",
    "* there are two tequnecs to cheaque the model detection model\n",
    "* 1) Cook's Distance\n",
    "* 2) Leverage value\n",
    "\n",
    "### 1) Cook’s Distance\n",
    "                        * If the Cook's distance > 1, then it's an outlier\n",
    "                        * get influencer using calculate Cook's distance"
   ]
  },
  {
   "cell_type": "code",
   "execution_count": null,
   "id": "ac80adaa",
   "metadata": {},
   "outputs": [],
   "source": [
    "model_influence = model1.get_influence()\n",
    "(c,_)=model_influence.cooks_distance"
   ]
  },
  {
   "cell_type": "code",
   "execution_count": null,
   "id": "1dc2cb94",
   "metadata": {},
   "outputs": [],
   "source": [
    "fig = plt.subplots(figsize = (20,7))\n",
    "plt.stem(np.arange(len(startup)),np.round(c,3))\n",
    "plt.show()"
   ]
  },
  {
   "cell_type": "markdown",
   "id": "070fbfa1",
   "metadata": {},
   "source": [
    "###### index value of influencer where c > 0.25"
   ]
  },
  {
   "cell_type": "code",
   "execution_count": null,
   "id": "a68e6463",
   "metadata": {},
   "outputs": [],
   "source": [
    "np.argmax(c),np.max(c)"
   ]
  },
  {
   "cell_type": "markdown",
   "id": "44f83ce7",
   "metadata": {},
   "source": [
    "#### high influence points: Points beyond Leverage_cutoff value are influencers"
   ]
  },
  {
   "cell_type": "code",
   "execution_count": null,
   "id": "e8a0aac9",
   "metadata": {},
   "outputs": [],
   "source": [
    "from statsmodels.graphics.regressionplots import influence_plot\n",
    "influence_plot(model1)\n",
    "plt.show()"
   ]
  },
  {
   "cell_type": "code",
   "execution_count": null,
   "id": "190b2b75",
   "metadata": {},
   "outputs": [],
   "source": [
    "k = startup.shape[1]\n",
    "n = startup.shape[0]\n",
    "leverage_cutoff = 3*((k+1)/n)\n",
    "leverage_cutoff"
   ]
  },
  {
   "cell_type": "code",
   "execution_count": null,
   "id": "f20c491c",
   "metadata": {},
   "outputs": [],
   "source": [
    "startup[startup1.index.isin([49])]"
   ]
  },
  {
   "cell_type": "code",
   "execution_count": null,
   "id": "fab03e9c",
   "metadata": {},
   "outputs": [],
   "source": [
    "startup1.head()"
   ]
  },
  {
   "cell_type": "markdown",
   "id": "89630e23",
   "metadata": {},
   "source": [
    "### improving the model "
   ]
  },
  {
   "cell_type": "code",
   "execution_count": null,
   "id": "12e7a143",
   "metadata": {},
   "outputs": [],
   "source": [
    "startup_new = startup1.drop(startup.index[[49]],axis= 0).reset_index()"
   ]
  },
  {
   "cell_type": "code",
   "execution_count": null,
   "id": "6a21d01b",
   "metadata": {},
   "outputs": [],
   "source": [
    "startup_new"
   ]
  },
  {
   "cell_type": "code",
   "execution_count": null,
   "id": "23a64fd5",
   "metadata": {},
   "outputs": [],
   "source": [
    "startup1 = startup_new.drop(['index'],axis=1)"
   ]
  },
  {
   "cell_type": "code",
   "execution_count": null,
   "id": "4e672efe",
   "metadata": {},
   "outputs": [],
   "source": [
    "startup1.tail()"
   ]
  },
  {
   "cell_type": "code",
   "execution_count": null,
   "id": "a5336d5b",
   "metadata": {},
   "outputs": [],
   "source": [
    "startup2 = startup1.rename({'R&D Spend':'rd',\"Marketing Spend\":'ms',\"Administration\":'ad','Profit':'pr'}, axis = 1)"
   ]
  },
  {
   "cell_type": "code",
   "execution_count": null,
   "id": "cb54a565",
   "metadata": {},
   "outputs": [],
   "source": [
    "startup2.head()"
   ]
  },
  {
   "cell_type": "markdown",
   "id": "256e15aa",
   "metadata": {},
   "source": [
    "### building our final model"
   ]
  },
  {
   "cell_type": "code",
   "execution_count": null,
   "id": "983edb86",
   "metadata": {},
   "outputs": [],
   "source": [
    "final_ml_ad= smf.ols('pr~rd+ad',data = startup2).fit()\n",
    "(final_ml_ad.rsquared,final_ml_ad.aic)"
   ]
  },
  {
   "cell_type": "code",
   "execution_count": null,
   "id": "8e53d173",
   "metadata": {},
   "outputs": [],
   "source": [
    "final_ml_ad= smf.ols('pr~rd+ms',data = startup2).fit()\n",
    "(final_ml_ad.rsquared,final_ml_ad.aic)"
   ]
  },
  {
   "cell_type": "code",
   "execution_count": null,
   "id": "0a745e3a",
   "metadata": {},
   "outputs": [],
   "source": [
    "final = smf.ols('pr~rd+ad+ms',data= startup2).fit()\n",
    "(final.rsquared,final.aic)"
   ]
  },
  {
   "cell_type": "code",
   "execution_count": null,
   "id": "292662fd",
   "metadata": {},
   "outputs": [],
   "source": [
    "startup2"
   ]
  },
  {
   "cell_type": "markdown",
   "id": "8c2555ed",
   "metadata": {},
   "source": [
    "# model prediction"
   ]
  },
  {
   "cell_type": "code",
   "execution_count": null,
   "id": "e0af915f",
   "metadata": {},
   "outputs": [],
   "source": [
    "new_startup = pd.DataFrame({'rd':50000,'ad':80000,'ms':155000},index = [1])"
   ]
  },
  {
   "cell_type": "code",
   "execution_count": null,
   "id": "42b030d4",
   "metadata": {},
   "outputs": [],
   "source": [
    "new_startup"
   ]
  },
  {
   "cell_type": "code",
   "execution_count": null,
   "id": "8ba687a9",
   "metadata": {},
   "outputs": [],
   "source": [
    "# manual prdiction of profit\n",
    "final.predict(new_startup)"
   ]
  },
  {
   "cell_type": "code",
   "execution_count": null,
   "id": "e994379d",
   "metadata": {},
   "outputs": [],
   "source": [
    "d2={'Prep_Models':['Model','Final_Model'],'Rsquared':[model1.rsquared,final.rsquared]}\n",
    "table=pd.DataFrame(d2)\n",
    "table\n"
   ]
  },
  {
   "cell_type": "markdown",
   "id": "b875f773",
   "metadata": {},
   "source": [
    "### Consider only the below columns and prepare a prediction model for predicting Price.\n",
    "\n",
    "Corolla<-Corolla[c(\"Price\",\"Age_08_04\",\"KM\",\"HP\",\"cc\",\"Doors\",\"Gears\",\"Quarterly_Tax\",\"Weight\")]\n",
    "\n",
    " \n",
    "\n",
    "Model -- model of the car\n",
    "Price  -- Offer Price in EUROs\t\n",
    "Age_08_04 -- Age in months as in August 2004\t\n",
    "Mfg_Month -- Manufacturing month (1-12)\t\n",
    "Mfg_Year\t-- Manufacturing Year\n",
    "KM -- Accumulated Kilometers on odometer\n",
    "Fuel_Type\t -- Fuel Type (Petrol, Diesel, CNG)\n",
    "HP -- Horse Power\n",
    "Met_Color\t -- Metallic Color?  (Yes=1, No=0)\n",
    "Color -- Color (Blue, Red, Grey, Silver, Black, etc.)\n",
    "Automatic\t-- Automatic ( (Yes=1, No=0)\n",
    "cc -- Cylinder Volume in cubic centimeters\n",
    "Doors -- Number of doors\n",
    "Cylinders\t-- Number of cylinders\n",
    "Gears -- Number of gear positions\n",
    "Quarterly_Tax -- Quarterly road tax in EUROs\n",
    "Weight -- Weight in Kilograms\n",
    "Mfr_Guarantee -- Within Manufacturer's Guarantee period  (Yes=1, No=0)\n",
    "BOVAG_Guarantee -- BOVAG (Dutch dealer network) Guarantee  (Yes=1, No=0)\n",
    "Guarantee_Period -- \tGuarantee period in months\n",
    "ABS -- Anti-Lock Brake System (Yes=1, No=0)\n",
    "Airbag_1 -- Driver_Airbag  (Yes=1, No=0)\n",
    "Airbag_2 -- Passenger Airbag  (Yes=1, No=0)\n",
    "Airco -- Airconditioning  (Yes=1, No=0)\n",
    "Automatic_airco -- Automatic Airconditioning  (Yes=1, No=0)\n",
    "Boardcomputer -- Boardcomputer  (Yes=1, No=0)\n",
    "CD_Player -- CD Player  (Yes=1, No=0)\n",
    "Central_Lock -- Central Lock  (Yes=1, No=0)\n",
    "Powered_Windows -- Powered Windows  (Yes=1, No=0)\n",
    "Power_Steering -- Power Steering  (Yes=1, No=0)\n",
    "Radio -- Radio  (Yes=1, No=0)\n",
    "Mistlamps\t-- Mistlamps  (Yes=1, No=0)\n",
    "Sport_Model -- Sport Model  (Yes=1, No=0)\n",
    "Backseat_Divider -- Backseat Divider  (Yes=1, No=0)\n",
    "Metallic_Rim --Metallic Rim  (Yes=1, No=0)\n",
    "Radio_cassette -- Radio Cassette  (Yes=1, No=0)\n",
    "Tow_Bar -- Tow Bar  (Yes=1, No=0)\n",
    "\n",
    "\n"
   ]
  },
  {
   "cell_type": "code",
   "execution_count": null,
   "id": "aec1408d",
   "metadata": {},
   "outputs": [],
   "source": [
    "import pandas as pd\n",
    "import numpy as np\n",
    "import seaborn as sns\n",
    "import matplotlib.pyplot as plt\n",
    "from statsmodels.graphics.regressionplots import influence_plot\n",
    "import statsmodels.formula.api as smf"
   ]
  },
  {
   "cell_type": "code",
   "execution_count": null,
   "id": "a43d51ad",
   "metadata": {},
   "outputs": [],
   "source": [
    "data = pd.read_csv('ToyotaCorolla.csv')"
   ]
  },
  {
   "cell_type": "code",
   "execution_count": null,
   "id": "7dd88ba6",
   "metadata": {},
   "outputs": [],
   "source": [
    "data.head(1)"
   ]
  },
  {
   "cell_type": "markdown",
   "id": "19e5e038",
   "metadata": {},
   "source": [
    "# EDA"
   ]
  },
  {
   "cell_type": "markdown",
   "id": "671d2bfe",
   "metadata": {},
   "source": [
    "###  Corolla<-Corolla[c(\"Price\",\"Age_08_04\",\"KM\",\"HP\",\"cc\",\"Doors\",\"Gears\",\"Quarterly_Tax\",\"Weight\")]"
   ]
  },
  {
   "cell_type": "code",
   "execution_count": null,
   "id": "98479a95",
   "metadata": {},
   "outputs": [],
   "source": [
    "data.shape"
   ]
  },
  {
   "cell_type": "code",
   "execution_count": null,
   "id": "5c8183c5",
   "metadata": {},
   "outputs": [],
   "source": [
    "data.info()"
   ]
  },
  {
   "cell_type": "code",
   "execution_count": null,
   "id": "a1200152",
   "metadata": {},
   "outputs": [],
   "source": [
    "data.head(1)"
   ]
  },
  {
   "cell_type": "code",
   "execution_count": null,
   "id": "20b9a8d0",
   "metadata": {},
   "outputs": [],
   "source": [
    "data1 = pd.concat([data.iloc[:,2:4],data.iloc[:,6:7],data.iloc[:,8:9],data.iloc[:,12:14],data.iloc[:,15:18]],axis=1)"
   ]
  },
  {
   "cell_type": "code",
   "execution_count": null,
   "id": "9d2665d0",
   "metadata": {},
   "outputs": [],
   "source": [
    "data1"
   ]
  },
  {
   "cell_type": "code",
   "execution_count": null,
   "id": "56e151bb",
   "metadata": {},
   "outputs": [],
   "source": [
    "data1.info()"
   ]
  },
  {
   "cell_type": "markdown",
   "id": "44aff207",
   "metadata": {},
   "source": [
    "###  Duplicates"
   ]
  },
  {
   "cell_type": "code",
   "execution_count": null,
   "id": "1baf3f91",
   "metadata": {},
   "outputs": [],
   "source": [
    "data1[data.duplicated()]  ### there is no duplicste values"
   ]
  },
  {
   "cell_type": "markdown",
   "id": "0ec98a96",
   "metadata": {},
   "source": [
    "### Rename"
   ]
  },
  {
   "cell_type": "code",
   "execution_count": null,
   "id": "90ebbafc",
   "metadata": {},
   "outputs": [],
   "source": [
    "data2 = data1.rename({'Age_08_04':'Age','Quarterly_Tax':'QT','cc':'CC'},axis = 1)"
   ]
  },
  {
   "cell_type": "code",
   "execution_count": null,
   "id": "7f22720d",
   "metadata": {},
   "outputs": [],
   "source": [
    "data2"
   ]
  },
  {
   "cell_type": "code",
   "execution_count": null,
   "id": "ae8cbedd",
   "metadata": {},
   "outputs": [],
   "source": [
    "data2[data2.duplicated()]"
   ]
  },
  {
   "cell_type": "code",
   "execution_count": null,
   "id": "59e1ebfc",
   "metadata": {},
   "outputs": [],
   "source": [
    "data3 = data2.drop_duplicates().reset_index(drop = True)\n",
    "data3"
   ]
  },
  {
   "cell_type": "code",
   "execution_count": null,
   "id": "39f02ce7",
   "metadata": {},
   "outputs": [],
   "source": [
    "data3.describe()"
   ]
  },
  {
   "cell_type": "markdown",
   "id": "8e1bffd8",
   "metadata": {},
   "source": [
    "#  Corilation Matrix\n"
   ]
  },
  {
   "cell_type": "code",
   "execution_count": null,
   "id": "87c8f772",
   "metadata": {},
   "outputs": [],
   "source": [
    "data3.corr()"
   ]
  },
  {
   "cell_type": "code",
   "execution_count": null,
   "id": "26b4807a",
   "metadata": {},
   "outputs": [],
   "source": [
    "# scatter plot between variables along with histogram\n",
    "sns.set_style(style='darkgrid')\n",
    "sns.pairplot(data3)"
   ]
  },
  {
   "cell_type": "markdown",
   "id": "261590d6",
   "metadata": {},
   "source": [
    "### Preparing a model "
   ]
  },
  {
   "cell_type": "code",
   "execution_count": null,
   "id": "06908833",
   "metadata": {},
   "outputs": [],
   "source": [
    "import statsmodels.formula.api as smf\n",
    "model = smf.ols('Price~Age+KM+HP+CC+Doors+Gears+QT+Weight',data = data3).fit()\n",
    "model.summary()"
   ]
  },
  {
   "cell_type": "markdown",
   "id": "02ad13e8",
   "metadata": {},
   "source": [
    "### Build a simple linear regration and Multiple linear regration model for insuficent variable 'CC' and 'Doors'"
   ]
  },
  {
   "cell_type": "code",
   "execution_count": null,
   "id": "199f3ece",
   "metadata": {},
   "outputs": [],
   "source": [
    "model_CC = smf.ols('Price~CC',data=data3).fit()\n",
    "model_CC.summary()"
   ]
  },
  {
   "cell_type": "code",
   "execution_count": null,
   "id": "4eba78b8",
   "metadata": {},
   "outputs": [],
   "source": [
    "model_Doors = smf.ols('Price~ Doors',data=data3).fit()\n",
    "model_Doors.summary()"
   ]
  },
  {
   "cell_type": "code",
   "execution_count": null,
   "id": "b30540ee",
   "metadata": {},
   "outputs": [],
   "source": [
    "model_CC_Doors = smf.ols('Price ~ CC + Doors',data = data3).fit()\n",
    "model_CC_Doors.summary()"
   ]
  },
  {
   "cell_type": "markdown",
   "id": "8f824a2b",
   "metadata": {},
   "source": [
    "# Model Validation Technique\n",
    "### Cheack Colinearity using VIF"
   ]
  },
  {
   "cell_type": "code",
   "execution_count": null,
   "id": "b8c3b34a",
   "metadata": {},
   "outputs": [],
   "source": [
    "rsq_age = smf.ols('Age ~ KM + HP + CC + Doors + Gears + QT + Weight',data=data3).fit().rsquared\n",
    "VIF_age = 1/(1-rsq_age)\n",
    "\n",
    "rsq_KM = smf.ols('KM ~ Age + HP + CC + Doors + Gears + QT + Weight',data = data3).fit().rsquared\n",
    "VIF_KM = 1/(1-rsq_KM)\n",
    "\n",
    "rsq_HP = smf.ols('HP ~ CC + Doors + Gears + QT + Weight + Age + KM',data = data3).fit().rsquared\n",
    "VIF_HP = 1/(1-rsq_HP)\n",
    "\n",
    "rsq_CC = smf.ols('CC ~ Doors + Gears + QT + Weight + Age + KM + HP',data = data3).fit().rsquared\n",
    "VIF_CC = 1/(1-rsq_CC)\n",
    "\n",
    "rsq_Doors = smf.ols('Doors ~ CC + Gears + QT + Weight + Age + KM + HP',data = data3).fit().rsquared\n",
    "VIF_Doors = 1/(1-rsq_Doors)\n",
    "\n",
    "rsq_Gears = smf.ols('Gears ~ Doors + CC  + QT + Weight + Age + KM + HP',data = data3).fit().rsquared\n",
    "VIF_Gears = 1/(1-rsq_Gears)\n",
    "\n",
    "rsq_QT = smf.ols('QT ~ Doors + CC + Gears + Weight + Age + KM + HP',data = data3).fit().rsquared\n",
    "VIF_QT = 1/(1-rsq_QT)\n",
    "\n",
    "rsq_Weight = smf.ols('Weight ~ Age + KM + HP + CC + Doors + Gears + QT ',data = data3).fit().rsquared\n",
    "VIF_Weight = 1/(1-rsq_Weight)\n",
    "\n"
   ]
  },
  {
   "cell_type": "code",
   "execution_count": null,
   "id": "17b882f7",
   "metadata": {},
   "outputs": [],
   "source": [
    "d1 = {'varibles':['age','km','hp','cc','doors','gears','qt','weight'],'VIF':[VIF_age,VIF_KM,VIF_HP,VIF_CC,VIF_Doors,VIF_Gears,VIF_QT,VIF_Weight]}\n",
    "d2 = pd.DataFrame(d1)\n",
    "d2"
   ]
  },
  {
   "cell_type": "markdown",
   "id": "f40f483f",
   "metadata": {},
   "source": [
    "### All VIF values are less than 20 or 10 there for no collinearity for this model so its regration equation"
   ]
  },
  {
   "cell_type": "markdown",
   "id": "0bb5edaf",
   "metadata": {},
   "source": [
    "###  Build final model"
   ]
  },
  {
   "cell_type": "code",
   "execution_count": null,
   "id": "52b66ffd",
   "metadata": {},
   "outputs": [],
   "source": [
    "final_ml_CC = smf.ols('Price~Age+KM+HP+CC+Gears+QT+Weight',data = data3).fit()\n",
    "(final_ml_CC.rsquared,final_ml_CC.aic)"
   ]
  },
  {
   "cell_type": "code",
   "execution_count": null,
   "id": "8db373ff",
   "metadata": {},
   "outputs": [],
   "source": [
    "final_ml_Doors = smf.ols('Price~Age+KM+HP+Doors+Gears+QT+Weight',data = data3).fit()\n",
    "(final_ml_Doors.rsquared,final_ml_Doors.aic)"
   ]
  },
  {
   "cell_type": "markdown",
   "id": "cc062da4",
   "metadata": {},
   "source": [
    "## Model validation tachniques"
   ]
  },
  {
   "cell_type": "markdown",
   "id": "1864c82e",
   "metadata": {},
   "source": [
    "### Residual analysis "
   ]
  },
  {
   "cell_type": "code",
   "execution_count": null,
   "id": "6252bcb4",
   "metadata": {},
   "outputs": [],
   "source": [
    "res = model.resid\n",
    "res\n",
    "res.mean()"
   ]
  },
  {
   "cell_type": "code",
   "execution_count": null,
   "id": "aa37e601",
   "metadata": {},
   "outputs": [],
   "source": [
    "import statsmodels.api as sm"
   ]
  },
  {
   "cell_type": "code",
   "execution_count": null,
   "id": "fd15de0f",
   "metadata": {},
   "outputs": [],
   "source": [
    "qqplot = sm.qqplot(res,line='q')\n",
    "plt.show()"
   ]
  },
  {
   "cell_type": "markdown",
   "id": "6f6cb661",
   "metadata": {},
   "source": [
    "* In the reside mean is not equal to 0 and this plot there are some points are not perticular line beacuse of this points we not conclude that your error are  normaly distributed"
   ]
  },
  {
   "cell_type": "code",
   "execution_count": null,
   "id": "f3748551",
   "metadata": {},
   "outputs": [],
   "source": [
    "list(np.where(model.resid>10))"
   ]
  },
  {
   "cell_type": "markdown",
   "id": "d3b413fa",
   "metadata": {},
   "source": [
    "### Residual plot for Homoscedasticity "
   ]
  },
  {
   "cell_type": "code",
   "execution_count": null,
   "id": "4aacdf80",
   "metadata": {},
   "outputs": [],
   "source": [
    "def get_standardize_value(vals):\n",
    "    return(vals - vals.mean())/vals.std()"
   ]
  },
  {
   "cell_type": "code",
   "execution_count": null,
   "id": "d80b54e6",
   "metadata": {},
   "outputs": [],
   "source": [
    "plt.scatter(get_standardize_value(model.fittedvalues),get_standardize_value(model.resid))\n",
    "plt.title(\"Residul plot\")\n",
    "plt.xlabel(\"standared fitted values\")\n",
    "plt.ylabel(\"standered residul values\")"
   ]
  },
  {
   "cell_type": "markdown",
   "id": "6c5e9bc5",
   "metadata": {},
   "source": [
    "### Residual vs Regrassor"
   ]
  },
  {
   "cell_type": "code",
   "execution_count": null,
   "id": "4cd1b450",
   "metadata": {},
   "outputs": [],
   "source": [
    "fig = plt.figure(figsize = (15,8))\n",
    "fig = sm.graphics.plot_regress_exog(model,'Age',fig = fig)\n",
    "plt.show()"
   ]
  },
  {
   "cell_type": "code",
   "execution_count": null,
   "id": "393afbe9",
   "metadata": {},
   "outputs": [],
   "source": [
    "fig = plt.figure(figsize = (15,8))\n",
    "fig = sm.graphics.plot_regress_exog(model,'KM',fig = fig)\n",
    "plt.show()"
   ]
  },
  {
   "cell_type": "code",
   "execution_count": null,
   "id": "1d403ae3",
   "metadata": {},
   "outputs": [],
   "source": [
    "fig = plt.figure(figsize = (15,8))\n",
    "fig = sm.graphics.plot_regress_exog(model,'HP',fig = fig)\n",
    "plt.show()"
   ]
  },
  {
   "cell_type": "code",
   "execution_count": null,
   "id": "e801ee16",
   "metadata": {},
   "outputs": [],
   "source": [
    "fig = plt.figure(figsize = (15,8))\n",
    "fig = sm.graphics.plot_regress_exog(model,'CC',fig = fig)\n",
    "plt.show()"
   ]
  },
  {
   "cell_type": "code",
   "execution_count": null,
   "id": "3ccecab0",
   "metadata": {},
   "outputs": [],
   "source": [
    "fig = plt.figure(figsize = (15,8))\n",
    "fig = sm.graphics.plot_regress_exog(model,'Doors',fig = fig)\n",
    "plt.show()"
   ]
  },
  {
   "cell_type": "code",
   "execution_count": null,
   "id": "64d1ecca",
   "metadata": {},
   "outputs": [],
   "source": [
    "fig = plt.figure(figsize = (15,8))\n",
    "fig = sm.graphics.plot_regress_exog(model,'Gears',fig = fig)\n",
    "plt.show()"
   ]
  },
  {
   "cell_type": "code",
   "execution_count": null,
   "id": "8ea1d6a8",
   "metadata": {},
   "outputs": [],
   "source": [
    "fig = plt.figure(figsize = (15,8))\n",
    "fig = sm.graphics.plot_regress_exog(model,'QT',fig = fig)\n",
    "plt.show()"
   ]
  },
  {
   "cell_type": "code",
   "execution_count": null,
   "id": "1fc5b624",
   "metadata": {},
   "outputs": [],
   "source": [
    "fig = plt.figure(figsize = (15,8))\n",
    "fig = sm.graphics.plot_regress_exog(model,'Weight',fig = fig)\n",
    "plt.show()"
   ]
  },
  {
   "cell_type": "markdown",
   "id": "4bbbffd7",
   "metadata": {},
   "source": [
    "## Model Deletion Diagnostics"
   ]
  },
  {
   "cell_type": "code",
   "execution_count": null,
   "id": "17f5306e",
   "metadata": {},
   "outputs": [],
   "source": [
    "model_influence = model.get_influence()\n",
    "(c,_)= model_influence.cooks_distance"
   ]
  },
  {
   "cell_type": "code",
   "execution_count": null,
   "id": "6b4a566d",
   "metadata": {},
   "outputs": [],
   "source": [
    "c"
   ]
  },
  {
   "cell_type": "code",
   "execution_count": null,
   "id": "7a115af3",
   "metadata": {
    "scrolled": true
   },
   "outputs": [],
   "source": [
    "fig = plt.subplots(figsize=(20,7))\n",
    "plt.stem(np.arange(len(data3)),np.round(c,3))\n",
    "plt.xlabel('Row Index')\n",
    "plt.ylabel('cooks distance')\n",
    "plt.show"
   ]
  },
  {
   "cell_type": "code",
   "execution_count": null,
   "id": "a9231ea5",
   "metadata": {},
   "outputs": [],
   "source": [
    " #Index and value of influencer where C>0.5\n",
    "np.argmax(c) , np.max(c)"
   ]
  },
  {
   "cell_type": "markdown",
   "id": "2ae9e740",
   "metadata": {},
   "source": [
    "### High influance point"
   ]
  },
  {
   "cell_type": "code",
   "execution_count": null,
   "id": "2afc1423",
   "metadata": {},
   "outputs": [],
   "source": [
    "from statsmodels.graphics.regressionplots import influence_plot"
   ]
  },
  {
   "cell_type": "code",
   "execution_count": null,
   "id": "3257493c",
   "metadata": {},
   "outputs": [],
   "source": [
    "influence_plot(model)\n",
    "plt.show()"
   ]
  },
  {
   "cell_type": "code",
   "execution_count": null,
   "id": "cc2ebb0d",
   "metadata": {},
   "outputs": [],
   "source": [
    "k = data3.shape[1]\n",
    "n = data3.shape[0]\n",
    "leverage_cutoff = 3*((k+1)/n)\n",
    "leverage_cutoff"
   ]
  },
  {
   "cell_type": "code",
   "execution_count": null,
   "id": "41cb5dc5",
   "metadata": {},
   "outputs": [],
   "source": [
    "data3[data3.index.isin([80])]"
   ]
  },
  {
   "cell_type": "code",
   "execution_count": null,
   "id": "457bdcc2",
   "metadata": {},
   "outputs": [],
   "source": [
    "data3"
   ]
  },
  {
   "cell_type": "markdown",
   "id": "29379122",
   "metadata": {},
   "source": [
    "### Improving the model"
   ]
  },
  {
   "cell_type": "code",
   "execution_count": null,
   "id": "1b22efd2",
   "metadata": {},
   "outputs": [],
   "source": [
    "data4 = data3.drop(data3.index[[80]],axis = 0).reset_index()\n",
    "data4"
   ]
  },
  {
   "cell_type": "code",
   "execution_count": null,
   "id": "eb806127",
   "metadata": {},
   "outputs": [],
   "source": [
    "data5 = data4.drop(['index'],axis=1)\n",
    "data5"
   ]
  },
  {
   "cell_type": "markdown",
   "id": "4e131cb2",
   "metadata": {},
   "source": [
    "### Build our final model"
   ]
  },
  {
   "cell_type": "code",
   "execution_count": null,
   "id": "97fa5cf9",
   "metadata": {},
   "outputs": [],
   "source": [
    "final_model_CC = smf.ols('Price~Age+KM+HP+CC+Gears+QT+Weight',data = data5).fit()\n",
    "(final_model_CC.rsquared,final_model_CC.aic)"
   ]
  },
  {
   "cell_type": "code",
   "execution_count": null,
   "id": "3e537f8e",
   "metadata": {},
   "outputs": [],
   "source": [
    "final_model_Doors = smf.ols('Price~Age+KM+HP+Doors+Gears+QT+Weight',data = data5).fit()\n",
    "(final_model_Doors.rsquared,final_model_Doors.aic)"
   ]
  },
  {
   "cell_type": "code",
   "execution_count": null,
   "id": "a566e527",
   "metadata": {},
   "outputs": [],
   "source": [
    "final_model = smf.ols('Price~Age+KM+HP+CC+Doors+Gears+QT+Weight',data = data5).fit()\n",
    "final_model.summary()"
   ]
  },
  {
   "cell_type": "code",
   "execution_count": null,
   "id": "c69f69a3",
   "metadata": {},
   "outputs": [],
   "source": [
    "final_model.rsquared"
   ]
  },
  {
   "cell_type": "markdown",
   "id": "07f5828e",
   "metadata": {},
   "source": [
    "###  Predict for new data"
   ]
  },
  {
   "cell_type": "code",
   "execution_count": null,
   "id": "19c5104a",
   "metadata": {},
   "outputs": [],
   "source": [
    "new_data = pd.DataFrame({'Age':25,'KM':50000,'HP':55,'CC':2500,'Doors':3,'Gears':6,'QT':200,'Weight':1660},index=[1])"
   ]
  },
  {
   "cell_type": "code",
   "execution_count": null,
   "id": "908d19c0",
   "metadata": {},
   "outputs": [],
   "source": [
    "new_data"
   ]
  },
  {
   "cell_type": "code",
   "execution_count": null,
   "id": "b21227c2",
   "metadata": {},
   "outputs": [],
   "source": [
    "final_model.predict(new_data)"
   ]
  },
  {
   "cell_type": "code",
   "execution_count": null,
   "id": "ea4b4a62",
   "metadata": {},
   "outputs": [],
   "source": [
    "d2={'Prep_Models':['Model','Final_Model'],'Rsquared':[model.rsquared,final_model.rsquared]}\n",
    "table=pd.DataFrame(d2)\n",
    "table\n"
   ]
  },
  {
   "cell_type": "code",
   "execution_count": null,
   "id": "e58d0928",
   "metadata": {},
   "outputs": [],
   "source": []
  }
 ],
 "metadata": {
  "kernelspec": {
   "display_name": "Python 3",
   "language": "python",
   "name": "python3"
  },
  "language_info": {
   "codemirror_mode": {
    "name": "ipython",
    "version": 3
   },
   "file_extension": ".py",
   "mimetype": "text/x-python",
   "name": "python",
   "nbconvert_exporter": "python",
   "pygments_lexer": "ipython3",
   "version": "3.8.8"
  }
 },
 "nbformat": 4,
 "nbformat_minor": 5
}
